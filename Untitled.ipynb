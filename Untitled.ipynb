{
 "cells": [
  {
   "cell_type": "markdown",
   "id": "f0304aed",
   "metadata": {},
   "source": [
    "# Generating Slippy Map Tiles with GDAL\n",
    "\n",
    "## Objective\n",
    "\n",
    "When previewing large rasters, it's helpful to have people be able\n",
    "to zoom around, but this is difficult without hosting tiles somewhere.\n",
    "\n",
    "## Process\n",
    "\n",
    "1. Procure your data.\n",
    "2. Pick your color palette from the [GRASS Wiki](https://grasswiki.osgeo.org/wiki/Color_tables) and procure the text file\n",
    "3. Use `gdaldem` to recolor the raster\n",
    "4. Use `gdal2tiles.py` to slice up the raster.\n",
    "5. Serve the directory somewhere where you can serve static files and load the tiles in your map."
   ]
  },
  {
   "cell_type": "code",
   "execution_count": null,
   "id": "dff9538e",
   "metadata": {},
   "outputs": [],
   "source": [
    "! cp ~/workspace/natcap/invest-sample-data/Base_Data/global_dem.tif ."
   ]
  },
  {
   "cell_type": "markdown",
   "id": "867c8d5c",
   "metadata": {},
   "source": [
    "## Example 1: Elevation Colormap\n",
    "\n",
    "![SRTM Colormap](https://grasswiki.osgeo.org/w/images/Colortable_srtm.png \"SRTM Colormap\")"
   ]
  },
  {
   "cell_type": "code",
   "execution_count": 24,
   "id": "575b96b2",
   "metadata": {},
   "outputs": [
    {
     "name": "stdout",
     "output_type": "stream",
     "text": [
      "--2023-06-08 09:22:50--  https://svn.osgeo.org/grass/grass/branches/releasebranch_6_4/lib/gis/colors/srtm\n",
      "Resolving svn.osgeo.org (svn.osgeo.org)... 140.211.15.30\n",
      "Connecting to svn.osgeo.org (svn.osgeo.org)|140.211.15.30|:443... connected.\n",
      "HTTP request sent, awaiting response... 200 OK\n",
      "Length: 240 [text/plain]\n",
      "Saving to: ‘srtm.gcolors’\n",
      "\n",
      "srtm.gcolors        100%[===================>]     240  --.-KB/s    in 0s      \n",
      "\n",
      "2023-06-08 09:22:50 (57.2 MB/s) - ‘srtm.gcolors’ saved [240/240]\n",
      "\n",
      "-11000 0 0 0\n",
      "-500 0 0 10\n",
      "-300 0 0 20\n",
      "-200 0 0 70\n",
      "-100 0 0 130\n",
      "-50 0 0 205\n",
      "0 aqua\n",
      "0.1   57 151 105\n",
      "100  117 194 93\n",
      "200  230 230 128\n",
      "500  202 158 75\n",
      "1000 214 187 98\n",
      "2000 185 154 100\n",
      "3000 220 220 220\n",
      "5000 250 250 250\n",
      "8850 255 255 255\n",
      "nv white\n"
     ]
    }
   ],
   "source": [
    "! wget https://svn.osgeo.org/grass/grass/branches/releasebranch_6_4/lib/gis/colors/srtm -O srtm.gcolors\n",
    "! cat srtm.gcolors"
   ]
  },
  {
   "cell_type": "markdown",
   "id": "ee1d1e42",
   "metadata": {},
   "source": [
    "## Example 2: Bathymetry Colormap\n",
    "\n",
    "![Bathymetry Colormap](https://grasswiki.osgeo.org/w/images/Colortable_palette_GMT_ocean.gcolors.png \"Bathymetry Colormap\")"
   ]
  },
  {
   "cell_type": "code",
   "execution_count": 28,
   "id": "8f1320ba",
   "metadata": {},
   "outputs": [
    {
     "name": "stdout",
     "output_type": "stream",
     "text": [
      "--2023-06-08 09:26:41--  https://trac.osgeo.org/grass/export/74509/grass-addons/grass6/raster/r.colors.tools/palettes/palette_GMT_ocean.gcolors\n",
      "Resolving trac.osgeo.org (trac.osgeo.org)... 140.211.15.30\n",
      "Connecting to trac.osgeo.org (trac.osgeo.org)|140.211.15.30|:443... connected.\n",
      "HTTP request sent, awaiting response... 200 OK\n",
      "Length: unspecified [text/plain]\n",
      "Saving to: ‘palette_GMT_ocean.gcolors.2’\n",
      "\n",
      "palette_GMT_ocean.g     [ <=>                ]     328  --.-KB/s    in 0s      \n",
      "\n",
      "2023-06-08 09:26:42 (17.4 MB/s) - ‘palette_GMT_ocean.gcolors.2’ saved [328]\n",
      "\n",
      "# GMT color map converted from 'GMT_ocean.cpt'\n",
      "#  Colortable for oceanic areas as used in Wessel maps\n",
      "#  Designed by P. Wessel and F. Martinez, SOEST.\n",
      "# (GPL v2)\n",
      "#\n",
      "default black\n",
      "-11000 0:0:0\n",
      "-8000 0:0:0\n",
      "-7000 0:5:25\n",
      "-6000 0:10:50\n",
      "-5000 0:80:125\n",
      "-4000 0:150:200\n",
      "-3000 86:197:184\n",
      "-2000 172:245:168\n",
      "-1000 211:250:211\n",
      "0 250:255:255\n"
     ]
    }
   ],
   "source": [
    "! wget https://trac.osgeo.org/grass/export/74509/grass-addons/grass6/raster/r.colors.tools/palettes/palette_GMT_ocean.gcolors\n",
    "!cat palette_GMT_ocean.gcolors"
   ]
  },
  {
   "cell_type": "markdown",
   "id": "8be06bea",
   "metadata": {},
   "source": [
    "## Process the Raster"
   ]
  },
  {
   "cell_type": "code",
   "execution_count": 32,
   "id": "bd8122ce",
   "metadata": {},
   "outputs": [
    {
     "name": "stdout",
     "output_type": "stream",
     "text": [
      "0...10...20...30...40...50...60...70...80...90...100 - done.\n"
     ]
    }
   ],
   "source": [
    "! gdaldem color-relief global_dem.tif srtm.gcolors global_dem_colorized.tif"
   ]
  },
  {
   "cell_type": "code",
   "execution_count": 33,
   "id": "4f32ecce",
   "metadata": {},
   "outputs": [
    {
     "name": "stdout",
     "output_type": "stream",
     "text": [
      "Generating Base Tiles:\n",
      "0/Users/jdouglass/workspace/phargogh/prototype-jupyter-layer-clipping-app/env/lib/python3.11/site-packages/osgeo/osr.py:385: FutureWarning: Neither osr.UseExceptions() nor osr.DontUseExceptions() has been explicitly called. In GDAL 4.0, exceptions will be enabled by default.\n",
      "  warnings.warn(\n",
      "/Users/jdouglass/workspace/phargogh/prototype-jupyter-layer-clipping-app/env/lib/python3.11/site-packages/osgeo/osr.py:385: FutureWarning: Neither osr.UseExceptions() nor osr.DontUseExceptions() has been explicitly called. In GDAL 4.0, exceptions will be enabled by default.\n",
      "  warnings.warn(\n",
      "/Users/jdouglass/workspace/phargogh/prototype-jupyter-layer-clipping-app/env/lib/python3.11/site-packages/osgeo/osr.py:385: FutureWarning: Neither osr.UseExceptions() nor osr.DontUseExceptions() has been explicitly called. In GDAL 4.0, exceptions will be enabled by default.\n",
      "  warnings.warn(\n",
      "...10...20...30...40...50...60...70...80...90...100 - done.\n",
      "Generating Overview Tiles:\n",
      "0...10...20...30...40...50...60...70...80...90...100 - done.\n",
      "swig/python detected a memory leak of type 'OSRSpatialReferenceShadow *', no destructor found.\n",
      "swig/python detected a memory leak of type 'OSRSpatialReferenceShadow *', no destructor found.\n"
     ]
    }
   ],
   "source": [
    "! gdal2tiles.py --xyz -r near --zoom=1-6 --processes=3 global_dem_colorized.tif tiles/"
   ]
  },
  {
   "cell_type": "code",
   "execution_count": 31,
   "id": "d6c5874c",
   "metadata": {},
   "outputs": [
    {
     "data": {
      "application/vnd.jupyter.widget-view+json": {
       "model_id": "ff5fd8920eae45dea83cf41199f6e750",
       "version_major": 2,
       "version_minor": 0
      },
      "text/plain": [
       "Map(center=[0, 0], controls=(ZoomControl(options=['position', 'zoom_in_text', 'zoom_in_title', 'zoom_out_text'…"
      ]
     },
     "execution_count": 31,
     "metadata": {},
     "output_type": "execute_result"
    }
   ],
   "source": [
    "import ipyleaflet\n",
    "from ipyleaflet import Map, LocalTileLayer, basemap_to_tiles, basemaps\n",
    "\n",
    "chosen_basemap = basemap_to_tiles(basemaps.OpenStreetMap.Mapnik)\n",
    "chosen_basemap.name = '(basemap) OpenStreetMap Mapnik'\n",
    "\n",
    "m = Map(\n",
    "    basemap=chosen_basemap,\n",
    "    center=(0,0),\n",
    "    zoom=2,  # zoom level for most of the globedisplay(m)\n",
    ")\n",
    "\n",
    "tiles_layer = LocalTileLayer(\n",
    "    path='tiles/{z}/{x}/{y}.png',\n",
    "    name='InVEST Sample DAta',\n",
    "    show_loading=True,\n",
    "    attribution='InVEST'\n",
    ")\n",
    "m.add_layer(tiles_layer)\n",
    "\n",
    "m"
   ]
  },
  {
   "cell_type": "markdown",
   "id": "94da49a8",
   "metadata": {},
   "source": []
  },
  {
   "cell_type": "code",
   "execution_count": null,
   "id": "2482bb95",
   "metadata": {},
   "outputs": [],
   "source": []
  },
  {
   "cell_type": "code",
   "execution_count": null,
   "id": "b30a9d39",
   "metadata": {},
   "outputs": [],
   "source": []
  }
 ],
 "metadata": {
  "kernelspec": {
   "display_name": "Python 3 (ipykernel)",
   "language": "python",
   "name": "python3"
  },
  "language_info": {
   "codemirror_mode": {
    "name": "ipython",
    "version": 3
   },
   "file_extension": ".py",
   "mimetype": "text/x-python",
   "name": "python",
   "nbconvert_exporter": "python",
   "pygments_lexer": "ipython3",
   "version": "3.11.3"
  }
 },
 "nbformat": 4,
 "nbformat_minor": 5
}
