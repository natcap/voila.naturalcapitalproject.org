{
 "cells": [
  {
   "cell_type": "code",
   "execution_count": 7,
   "id": "dc98002f",
   "metadata": {},
   "outputs": [
    {
     "data": {
      "application/vnd.jupyter.widget-view+json": {
       "model_id": "cbe822fa54134a128bfb17da614ece45",
       "version_major": 2,
       "version_minor": 0
      },
      "text/plain": [
       "Map(center=[0, 0], controls=(ZoomControl(options=['position', 'zoom_in_text', 'zoom_in_title', 'zoom_out_text'…"
      ]
     },
     "execution_count": 7,
     "metadata": {},
     "output_type": "execute_result"
    }
   ],
   "source": [
    "import json\n",
    "\n",
    "from ipyleaflet import Map, LocalTileLayer, basemap_to_tiles, basemaps\n",
    "from ipyleaflet import LayersControl, ZoomControl, ScaleControl, LegendControl, WidgetControl, DrawControl\n",
    "import IPython.display\n",
    "import ipywidgets as widgets\n",
    "\n",
    "\n",
    "with open('stats.json') as stats_json:\n",
    "    stats = json.load(stats_json)\n",
    "    \n",
    "minimum = stats['minimum']\n",
    "maximum = stats['maximum']\n",
    "\n",
    "\n",
    "chosen_basemap = basemap_to_tiles(basemaps.OpenStreetMap.Mapnik)\n",
    "chosen_basemap.name = '(basemap) OpenStreetMap Mapnik'\n",
    "\n",
    "m = Map(\n",
    "    basemap=chosen_basemap,\n",
    "    center=(0,0),\n",
    "    zoom=2,  # zoom level for most of the globedisplay(m)\n",
    ")  \n",
    "\n",
    "scalebar = ScaleControl(position='bottomleft')\n",
    "m.add_control(scalebar)\n",
    "\n",
    "# If we want to pre-cache these tiles on GCS, use ipyleaflet.leaflet.TileLayer instead\n",
    "country_id_tiles_layer = LocalTileLayer(\n",
    "    path='tiles/{z}/{x}/{y}.png',\n",
    "    name='NASA SRTM',\n",
    "    show_loading=True,\n",
    "    attribution='NASA'\n",
    "    \n",
    ")\n",
    "m.add_layer(country_id_tiles_layer)\n",
    "\n",
    "layerlist = LayersControl(position='topleft')\n",
    "m.add_control(layerlist)\n",
    "\n",
    "# build a colormap from our GDAL-compatible GRASS color file\n",
    "import branca\n",
    "colors = []\n",
    "with open('elevation-color-profile-grass.txt') as color_profile:\n",
    "    for line in color_profile:\n",
    "        try:\n",
    "            percent, r, g, b = [c.strip() for c in line.split(' ') if c]\n",
    "        except ValueError:\n",
    "            pass\n",
    "        colors.append((float(r), float(g), float(b)))\n",
    "\n",
    "colormap = branca.colormap.LinearColormap(\n",
    "    colors=colors,\n",
    "    vmin=minimum, vmax=maximum)\n",
    "colormap.caption = 'Elevation (m)'\n",
    "html = f\"{colormap._repr_html_()}\"\n",
    "\n",
    "colorbar = WidgetControl(widget=widgets.HTML(html), position='topright')\n",
    "m.add_control(colorbar)\n",
    "\n",
    "\n",
    "draw_control = DrawControl(polyline={}, circlemarker={})\n",
    "draw_control.polygon = {\n",
    "    \"shapeOptions\": {\n",
    "        \"fillColor\": \"#6be5c3\",\n",
    "        \"color\": \"#6be5c3\",\n",
    "        \"fillOpacity\": 0.5\n",
    "    },\n",
    "    \"drawError\": {\n",
    "        \"color\": \"#dd253b\",\n",
    "        \"message\": \"Oups!\"\n",
    "    },\n",
    "    \"allowIntersection\": False\n",
    "}\n",
    "m.add_control(draw_control)\n",
    "\n",
    "m"
   ]
  },
  {
   "cell_type": "code",
   "execution_count": 8,
   "id": "a5686745",
   "metadata": {},
   "outputs": [
    {
     "ename": "IndexError",
     "evalue": "list index out of range",
     "output_type": "error",
     "traceback": [
      "\u001b[0;31m---------------------------------------------------------------------------\u001b[0m",
      "\u001b[0;31mIndexError\u001b[0m                                Traceback (most recent call last)",
      "Cell \u001b[0;32mIn[8], line 1\u001b[0m\n\u001b[0;32m----> 1\u001b[0m \u001b[43mdraw_control\u001b[49m\u001b[38;5;241;43m.\u001b[39;49m\u001b[43mdata\u001b[49m\u001b[43m[\u001b[49m\u001b[38;5;241;43m0\u001b[39;49m\u001b[43m]\u001b[49m[\u001b[38;5;124m'\u001b[39m\u001b[38;5;124mgeometry\u001b[39m\u001b[38;5;124m'\u001b[39m]\n",
      "\u001b[0;31mIndexError\u001b[0m: list index out of range"
     ]
    }
   ],
   "source": [
    "draw_control.data[0]['geometry']"
   ]
  },
  {
   "cell_type": "code",
   "execution_count": 9,
   "id": "01898168",
   "metadata": {},
   "outputs": [
    {
     "ename": "IndexError",
     "evalue": "list index out of range",
     "output_type": "error",
     "traceback": [
      "\u001b[0;31m---------------------------------------------------------------------------\u001b[0m",
      "\u001b[0;31mIndexError\u001b[0m                                Traceback (most recent call last)",
      "Cell \u001b[0;32mIn[9], line 2\u001b[0m\n\u001b[1;32m      1\u001b[0m \u001b[38;5;28;01mimport\u001b[39;00m \u001b[38;5;21;01mshapely\u001b[39;00m\u001b[38;5;21;01m.\u001b[39;00m\u001b[38;5;21;01mgeometry\u001b[39;00m\n\u001b[0;32m----> 2\u001b[0m shapely\u001b[38;5;241m.\u001b[39mgeometry\u001b[38;5;241m.\u001b[39mPolygon(\u001b[43mdraw_control\u001b[49m\u001b[38;5;241;43m.\u001b[39;49m\u001b[43mdata\u001b[49m\u001b[43m[\u001b[49m\u001b[38;5;241;43m0\u001b[39;49m\u001b[43m]\u001b[49m[\u001b[38;5;124m'\u001b[39m\u001b[38;5;124mgeometry\u001b[39m\u001b[38;5;124m'\u001b[39m][\u001b[38;5;124m'\u001b[39m\u001b[38;5;124mcoordinates\u001b[39m\u001b[38;5;124m'\u001b[39m][\u001b[38;5;241m0\u001b[39m])\n",
      "\u001b[0;31mIndexError\u001b[0m: list index out of range"
     ]
    }
   ],
   "source": [
    "import shapely.geometry\n",
    "shapely.geometry.Polygon(draw_control.data[0]['geometry']['coordinates'][0])"
   ]
  },
  {
   "cell_type": "code",
   "execution_count": 11,
   "id": "fbc2a146",
   "metadata": {},
   "outputs": [
    {
     "ename": "NameError",
     "evalue": "name 'URL' is not defined",
     "output_type": "error",
     "traceback": [
      "\u001b[0;31m---------------------------------------------------------------------------\u001b[0m",
      "\u001b[0;31mNameError\u001b[0m                                 Traceback (most recent call last)",
      "Cell \u001b[0;32mIn[11], line 14\u001b[0m\n\u001b[1;32m      9\u001b[0m \u001b[38;5;28;01mfrom\u001b[39;00m \u001b[38;5;21;01mIPython\u001b[39;00m\u001b[38;5;21;01m.\u001b[39;00m\u001b[38;5;21;01mdisplay\u001b[39;00m \u001b[38;5;28;01mimport\u001b[39;00m HTML\n\u001b[1;32m     10\u001b[0m HTML(\u001b[38;5;124m'''\u001b[39m\n\u001b[1;32m     11\u001b[0m \u001b[38;5;124m    <script type=\u001b[39m\u001b[38;5;124m\"\u001b[39m\u001b[38;5;124mtext/javascript\u001b[39m\u001b[38;5;124m\"\u001b[39m\u001b[38;5;124m>\u001b[39m\n\u001b[1;32m     12\u001b[0m \u001b[38;5;124m        IPython.notebook.kernel.execute(\u001b[39m\u001b[38;5;124m\"\u001b[39m\u001b[38;5;124mURL = \u001b[39m\u001b[38;5;124m'\u001b[39m\u001b[38;5;124m\"\u001b[39m\u001b[38;5;124m + window.location + \u001b[39m\u001b[38;5;124m\"\u001b[39m\u001b[38;5;124m'\u001b[39m\u001b[38;5;124m\"\u001b[39m\u001b[38;5;124m)\u001b[39m\n\u001b[1;32m     13\u001b[0m \u001b[38;5;124m    </script>\u001b[39m\u001b[38;5;124m'''\u001b[39m)\n\u001b[0;32m---> 14\u001b[0m \u001b[38;5;28mprint\u001b[39m(\u001b[43mURL\u001b[49m)\n",
      "\u001b[0;31mNameError\u001b[0m: name 'URL' is not defined"
     ]
    }
   ],
   "source": [
    "# How to get layer names passed in as URL parameters.\n",
    "# \n",
    "# A button in the catalog can be programmatically built in this way\n",
    "# to link to this jupyter notebook wherever it is served and have\n",
    "# the notebook constructed so that we pre-select the target layer.\n",
    "#\n",
    "# https://stackoverflow.com/a/37134476\n",
    "\n",
    "from IPython.display import HTML\n",
    "HTML('''\n",
    "    <script type=\"text/javascript\">\n",
    "        IPython.notebook.kernel.execute(\"URL = '\" + window.location + \"'\")\n",
    "    </script>''')\n",
    "print(URL)"
   ]
  },
  {
   "cell_type": "code",
   "execution_count": null,
   "id": "95a2ffc5",
   "metadata": {},
   "outputs": [],
   "source": []
  }
 ],
 "metadata": {
  "kernelspec": {
   "display_name": "Python 3 (ipykernel)",
   "language": "python",
   "name": "python3"
  },
  "language_info": {
   "codemirror_mode": {
    "name": "ipython",
    "version": 3
   },
   "file_extension": ".py",
   "mimetype": "text/x-python",
   "name": "python",
   "nbconvert_exporter": "python",
   "pygments_lexer": "ipython3",
   "version": "3.11.3"
  }
 },
 "nbformat": 4,
 "nbformat_minor": 5
}
