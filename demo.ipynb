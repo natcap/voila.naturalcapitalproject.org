{
 "cells": [
  {
   "cell_type": "code",
   "execution_count": 57,
   "id": "ddb6ce81",
   "metadata": {},
   "outputs": [
    {
     "data": {
      "text/html": [
       "\n",
       "    <script type=\"text/javascript\">\n",
       "        IPython.notebook.kernel.execute(\"URL = '\" + window.location + \"'\")\n",
       "    </script>"
      ],
      "text/plain": [
       "<IPython.core.display.HTML object>"
      ]
     },
     "execution_count": 57,
     "metadata": {},
     "output_type": "execute_result"
    }
   ],
   "source": [
    "# How to get layer names passed in as URL parameters.\n",
    "# \n",
    "# A button in the catalog can be programmatically built in this way\n",
    "# to link to this jupyter notebook wherever it is served and have\n",
    "# the notebook constructed so that we pre-select the target layer.\n",
    "#\n",
    "# https://stackoverflow.com/a/37134476\n",
    "\n",
    "from IPython.display import HTML\n",
    "HTML('''\n",
    "    <script type=\"text/javascript\">\n",
    "        IPython.notebook.kernel.execute(\"URL = '\" + window.location + \"'\")\n",
    "    </script>''')\n"
   ]
  },
  {
   "cell_type": "code",
   "execution_count": 60,
   "id": "3bd68de8",
   "metadata": {},
   "outputs": [],
   "source": [
    "#print(URL)"
   ]
  },
  {
   "cell_type": "code",
   "execution_count": 16,
   "id": "dc98002f",
   "metadata": {},
   "outputs": [
    {
     "data": {
      "application/vnd.jupyter.widget-view+json": {
       "model_id": "4a5b1d577c76443a8509cf3fe783cc90",
       "version_major": 2,
       "version_minor": 0
      },
      "text/plain": [
       "Map(center=[0, 0], controls=(ZoomControl(options=['position', 'zoom_in_text', 'zoom_in_title', 'zoom_out_text'…"
      ]
     },
     "metadata": {},
     "output_type": "display_data"
    },
    {
     "data": {
      "application/vnd.jupyter.widget-view+json": {
       "model_id": "b03cc4c1aaa7409f98c19f759eb3f9fc",
       "version_major": 2,
       "version_minor": 0
      },
      "text/plain": [
       "Output(layout=Layout(border_bottom='1px solid black', border_left='1px solid black', border_right='1px solid b…"
      ]
     },
     "metadata": {},
     "output_type": "display_data"
    }
   ],
   "source": [
    "import json\n",
    "import threading\n",
    "import logging\n",
    "logging.basicConfig(level=logging.INFO)\n",
    "\n",
    "LOGGER = logging.getLogger(__name__)\n",
    "\n",
    "import pygeoprocessing\n",
    "import shapely.geometry\n",
    "from osgeo import gdal\n",
    "import ipyleaflet\n",
    "from ipyleaflet import Map, LocalTileLayer, basemap_to_tiles, basemaps\n",
    "from ipyleaflet import LayersControl, ZoomControl, ScaleControl, LegendControl, WidgetControl, DrawControl\n",
    "import IPython.display\n",
    "import ipywidgets as widgets\n",
    "\n",
    "gdal.DontUseExceptions()\n",
    "\n",
    "\n",
    "# From https://ipywidgets.readthedocs.io/en/latest/examples/Output%20Widget.html\n",
    "class OutputWidgetHandler(logging.Handler):\n",
    "    \"\"\" Custom logging handler sending logs to an output widget \"\"\"\n",
    "\n",
    "    def __init__(self, *args, **kwargs):\n",
    "        super(OutputWidgetHandler, self).__init__(*args, **kwargs)\n",
    "        layout = {\n",
    "            'width': '100%', \n",
    "            'height': '160px', \n",
    "            'border': '1px solid black'\n",
    "        }\n",
    "        self.out = widgets.Output(layout=layout)\n",
    "\n",
    "    def emit(self, record):\n",
    "        \"\"\" Overload of logging.Handler method \"\"\"\n",
    "        formatted_record = self.format(record)\n",
    "        new_output = {\n",
    "            'name': 'stdout', \n",
    "            'output_type': 'stream', \n",
    "            'text': formatted_record+'\\n'\n",
    "        }\n",
    "        self.out.outputs = (new_output, ) + self.out.outputs\n",
    "        \n",
    "    def show_logs(self):\n",
    "        \"\"\" Show the logs \"\"\"\n",
    "        display(self.out)\n",
    "    \n",
    "    def clear_logs(self):\n",
    "        \"\"\" Clear the current logs \"\"\"\n",
    "        self.out.clear_output()\n",
    "        \n",
    "output_handler = OutputWidgetHandler()\n",
    "logging.getLogger().addHandler(output_handler)\n",
    "\n",
    "\n",
    "with open('stats.json') as stats_json:\n",
    "    stats = json.load(stats_json)\n",
    "    \n",
    "minimum = stats['minimum']\n",
    "maximum = stats['maximum']\n",
    "\n",
    "\n",
    "chosen_basemap = basemap_to_tiles(basemaps.OpenStreetMap.Mapnik)\n",
    "chosen_basemap.name = '(basemap) OpenStreetMap Mapnik'\n",
    "\n",
    "m = Map(\n",
    "    basemap=chosen_basemap,\n",
    "    center=(0,0),\n",
    "    zoom=2,  # zoom level for most of the globedisplay(m)\n",
    ")  \n",
    "\n",
    "scalebar = ScaleControl(position='bottomleft')\n",
    "m.add_control(scalebar)\n",
    "\n",
    "# If we want to pre-cache these tiles on GCS, use ipyleaflet.leaflet.TileLayer instead\n",
    "country_id_tiles_layer = LocalTileLayer(\n",
    "    path='tiles/{z}/{x}/{y}.png',\n",
    "    name='NASA SRTM',\n",
    "    show_loading=True,\n",
    "    attribution='NASA'\n",
    "    \n",
    ")\n",
    "m.add_layer(country_id_tiles_layer)\n",
    "\n",
    "layerlist = LayersControl(position='topleft')\n",
    "m.add_control(layerlist)\n",
    "\n",
    "# build a colormap from our GDAL-compatible GRASS color file\n",
    "import branca\n",
    "colors = []\n",
    "with open('elevation-color-profile-grass.txt') as color_profile:\n",
    "    for line in color_profile:\n",
    "        try:\n",
    "            percent, r, g, b = [c.strip() for c in line.split(' ') if c]\n",
    "        except ValueError:\n",
    "            pass\n",
    "        colors.append((float(r), float(g), float(b)))\n",
    "\n",
    "colormap = branca.colormap.LinearColormap(\n",
    "    colors=colors,\n",
    "    vmin=minimum, vmax=maximum)\n",
    "colormap.caption = 'Elevation (m)'\n",
    "html = f\"{colormap._repr_html_()}\"\n",
    "\n",
    "colorbar = WidgetControl(widget=widgets.HTML(html), position='topright')\n",
    "m.add_control(colorbar)\n",
    "\n",
    "\n",
    "draw_control = DrawControl(polyline={}, circlemarker={})\n",
    "draw_control.polygon = {\n",
    "    \"shapeOptions\": {\n",
    "        \"fillColor\": \"#6be5c3\",\n",
    "        \"color\": \"#6be5c3\",\n",
    "        \"fillOpacity\": 0.5\n",
    "    },\n",
    "    \"drawError\": {\n",
    "        \"color\": \"#dd253b\",\n",
    "        \"message\": \"Oups!\"\n",
    "    },\n",
    "    \"allowIntersection\": False\n",
    "}\n",
    "m.add_control(draw_control)\n",
    "\n",
    "submit_button = widgets.Button(\n",
    "    description = 'Clip layer to AOI',\n",
    "    disabled=False,  # start out disabled, enable when geometries defined\n",
    "    button_style='',  # change to 'success' when geometries added\n",
    "    tooltip='Clip the underlying layer by the bounding box of the geometries defined.',\n",
    "    icon='scissors',  # this is a fontawesome icon\n",
    ")\n",
    "submit_button_control = WidgetControl(widget=submit_button, position='bottomright')\n",
    "\n",
    "\n",
    "def _add_submit_button(control, **kwargs):\n",
    "    # enable the submit button if \n",
    "    if kwargs['geo_json']['geometry']['coordinates']:\n",
    "        m.add_control(submit_button_control)\n",
    "    else:\n",
    "        try:\n",
    "            m.remove_control(submit_button_control)\n",
    "        except ipyleaflet.ControlException:\n",
    "            # When the control is not currently on the map\n",
    "            pass\n",
    "        \n",
    "draw_control.on_draw(_add_submit_button)\n",
    "\n",
    "\n",
    "def compute(source_raster_path, aoi_geom, target_epsg, target_raster_path):\n",
    "    # TODO: if the target coordinate system is projected, use the user's pixel size\n",
    "    #       It seems potentially challenging if we were to derive an appropriate linear pixel size,\n",
    "    #       so let's just ask.\n",
    "    LOGGER.info('bar')\n",
    "    LOGGER.info('Warping')\n",
    "    # Clip the source raster to the target bounding box in WGS84\n",
    "    raster_info = pygeoprocessing.get_raster_info(source_raster_path)\n",
    "    pygeoprocessing.warp_raster(\n",
    "        base_raster_path=source_raster_path,\n",
    "        target_pixel_size=raster_info['pixel_size'],\n",
    "        target_raster_path=target_raster_path,\n",
    "        resample_method='near',\n",
    "        target_bb=shapely.geometry.shape(aoi_geom).bounds,\n",
    "    )\n",
    "    LOGGER.info('Finished warping')\n",
    "    LOGGER.info(f\"Clipped raster available at {target_raster_path}\")\n",
    "    print('ending')\n",
    "\n",
    "    # warp the clipped raster to the target coordinate system\n",
    "    #pygeoprocessing.warp_raster(\n",
    "    #    base_raster_path\n",
    "    #)\n",
    "\n",
    "threads = []\n",
    "\n",
    "def _submit_form(*args, **kwargs):\n",
    "    LOGGER.info('foo')\n",
    "    submit_button.description = \"Clipping ...\"\n",
    "    submit_button.disabled = True\n",
    "    #thread = threading.Thread(\n",
    "    #    target=compute,\n",
    "    #    args=[\n",
    "    #        'intermediate/global_dem.tif',\n",
    "    #        draw_control.data[0]['geometry'],\n",
    "    #        4326,\n",
    "    #        'foo.tif'\n",
    "    #    ]\n",
    "    #)\n",
    "    #thread.start()\n",
    "    #thread.join()\n",
    "    args=[\n",
    "            'intermediate/global_dem.tif',\n",
    "            draw_control.data[0]['geometry'],\n",
    "            4326,\n",
    "            'foo.tif'\n",
    "        ]\n",
    "    compute(*args)\n",
    "    \n",
    "    submit_button.disabled = False\n",
    "    submit_button.description = 'Clip layer to AOI'\n",
    "    print('bar')\n",
    "    \n",
    "    \n",
    "\n",
    "submit_button.on_click(_submit_form)\n",
    "\n",
    "\n",
    "display(m)\n",
    "display(output_handler.out)"
   ]
  },
  {
   "cell_type": "code",
   "execution_count": 9,
   "id": "fbc2a146",
   "metadata": {},
   "outputs": [
    {
     "data": {
      "application/vnd.jupyter.widget-view+json": {
       "model_id": "7b1a8e8f72ad4172afc56c384276636f",
       "version_major": 2,
       "version_minor": 0
      },
      "text/plain": [
       "Output(layout=Layout(border_bottom='1px solid black', border_left='1px solid black', border_right='1px solid b…"
      ]
     },
     "execution_count": 9,
     "metadata": {},
     "output_type": "execute_result"
    }
   ],
   "source": []
  },
  {
   "cell_type": "code",
   "execution_count": 56,
   "id": "95a2ffc5",
   "metadata": {},
   "outputs": [
    {
     "name": "stdout",
     "output_type": "stream",
     "text": [
      "http://localhost:8889/notebooks/demo.ipynb\n"
     ]
    }
   ],
   "source": []
  },
  {
   "cell_type": "code",
   "execution_count": null,
   "id": "09e73640",
   "metadata": {},
   "outputs": [],
   "source": []
  }
 ],
 "metadata": {
  "kernelspec": {
   "display_name": "Python 3 (ipykernel)",
   "language": "python",
   "name": "python3"
  },
  "language_info": {
   "codemirror_mode": {
    "name": "ipython",
    "version": 3
   },
   "file_extension": ".py",
   "mimetype": "text/x-python",
   "name": "python",
   "nbconvert_exporter": "python",
   "pygments_lexer": "ipython3",
   "version": "3.11.3"
  }
 },
 "nbformat": 4,
 "nbformat_minor": 5
}
