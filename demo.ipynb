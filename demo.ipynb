{
 "cells": [
  {
   "cell_type": "code",
   "execution_count": 53,
   "id": "dc98002f",
   "metadata": {},
   "outputs": [
    {
     "data": {
      "application/vnd.jupyter.widget-view+json": {
       "model_id": "acf1ce79f8eb47378e79f2815e9ed3e5",
       "version_major": 2,
       "version_minor": 0
      },
      "text/plain": [
       "Map(center=[0, 0], controls=(ZoomControl(options=['position', 'zoom_in_text', 'zoom_in_title', 'zoom_out_text'…"
      ]
     },
     "execution_count": 53,
     "metadata": {},
     "output_type": "execute_result"
    },
    {
     "name": "stderr",
     "output_type": "stream",
     "text": [
      "INFO:__main__:Warping\n",
      "INFO:__main__:Finished warping\n",
      "INFO:__main__:Clipped raster available at foo.tif\n"
     ]
    }
   ],
   "source": [
    "import json\n",
    "import threading\n",
    "import logging\n",
    "logging.basicConfig(level=logging.INFO)\n",
    "\n",
    "LOGGER = logging.getLogger(__name__)\n",
    "\n",
    "import pygeoprocessing\n",
    "from osgeo import gdal\n",
    "import ipyleaflet\n",
    "from ipyleaflet import Map, LocalTileLayer, basemap_to_tiles, basemaps\n",
    "from ipyleaflet import LayersControl, ZoomControl, ScaleControl, LegendControl, WidgetControl, DrawControl\n",
    "import IPython.display\n",
    "import ipywidgets as widgets\n",
    "\n",
    "gdal.DontUseExceptions()\n",
    "\n",
    "\n",
    "with open('stats.json') as stats_json:\n",
    "    stats = json.load(stats_json)\n",
    "    \n",
    "minimum = stats['minimum']\n",
    "maximum = stats['maximum']\n",
    "\n",
    "\n",
    "chosen_basemap = basemap_to_tiles(basemaps.OpenStreetMap.Mapnik)\n",
    "chosen_basemap.name = '(basemap) OpenStreetMap Mapnik'\n",
    "\n",
    "m = Map(\n",
    "    basemap=chosen_basemap,\n",
    "    center=(0,0),\n",
    "    zoom=2,  # zoom level for most of the globedisplay(m)\n",
    ")  \n",
    "\n",
    "scalebar = ScaleControl(position='bottomleft')\n",
    "m.add_control(scalebar)\n",
    "\n",
    "# If we want to pre-cache these tiles on GCS, use ipyleaflet.leaflet.TileLayer instead\n",
    "country_id_tiles_layer = LocalTileLayer(\n",
    "    path='tiles/{z}/{x}/{y}.png',\n",
    "    name='NASA SRTM',\n",
    "    show_loading=True,\n",
    "    attribution='NASA'\n",
    "    \n",
    ")\n",
    "m.add_layer(country_id_tiles_layer)\n",
    "\n",
    "layerlist = LayersControl(position='topleft')\n",
    "m.add_control(layerlist)\n",
    "\n",
    "# build a colormap from our GDAL-compatible GRASS color file\n",
    "import branca\n",
    "colors = []\n",
    "with open('elevation-color-profile-grass.txt') as color_profile:\n",
    "    for line in color_profile:\n",
    "        try:\n",
    "            percent, r, g, b = [c.strip() for c in line.split(' ') if c]\n",
    "        except ValueError:\n",
    "            pass\n",
    "        colors.append((float(r), float(g), float(b)))\n",
    "\n",
    "colormap = branca.colormap.LinearColormap(\n",
    "    colors=colors,\n",
    "    vmin=minimum, vmax=maximum)\n",
    "colormap.caption = 'Elevation (m)'\n",
    "html = f\"{colormap._repr_html_()}\"\n",
    "\n",
    "colorbar = WidgetControl(widget=widgets.HTML(html), position='topright')\n",
    "m.add_control(colorbar)\n",
    "\n",
    "\n",
    "draw_control = DrawControl(polyline={}, circlemarker={})\n",
    "draw_control.polygon = {\n",
    "    \"shapeOptions\": {\n",
    "        \"fillColor\": \"#6be5c3\",\n",
    "        \"color\": \"#6be5c3\",\n",
    "        \"fillOpacity\": 0.5\n",
    "    },\n",
    "    \"drawError\": {\n",
    "        \"color\": \"#dd253b\",\n",
    "        \"message\": \"Oups!\"\n",
    "    },\n",
    "    \"allowIntersection\": False\n",
    "}\n",
    "m.add_control(draw_control)\n",
    "\n",
    "submit_button = widgets.Button(\n",
    "    description = 'Clip layer to AOI',\n",
    "    disabled=False,  # start out disabled, enable when geometries defined\n",
    "    button_style='',  # change to 'success' when geometries added\n",
    "    tooltip='Clip the underlying layer by the bounding box of the geometries defined.',\n",
    "    icon='scissors',  # this is a fontawesome icon\n",
    ")\n",
    "submit_button_control = WidgetControl(widget=submit_button, position='bottomright')\n",
    "\n",
    "\n",
    "def _add_submit_button(control, **kwargs):\n",
    "    # enable the submit button if \n",
    "    if kwargs['geo_json']['geometry']['coordinates']:\n",
    "        m.add_control(submit_button_control)\n",
    "    else:\n",
    "        try:\n",
    "            m.remove_control(submit_button_control)\n",
    "        except ipyleaflet.ControlException:\n",
    "            # When the control is not currently on the map\n",
    "            pass\n",
    "        \n",
    "draw_control.on_draw(_add_submit_button)\n",
    "\n",
    "def compute(source_raster_path, aoi_geom, target_epsg, target_raster_path):\n",
    "    # TODO: if the target coordinate system is projected, use the user's pixel size\n",
    "    #       It seems potentially challenging if we were to derive an appropriate linear pixel size,\n",
    "    #       so let's just ask.\n",
    "    \n",
    "    LOGGER.info('Warping')\n",
    "    # Clip the source raster to the target bounding box in WGS84\n",
    "    raster_info = pygeoprocessing.get_raster_info(source_raster_path)\n",
    "    pygeoprocessing.warp_raster(\n",
    "        base_raster_path=source_raster_path,\n",
    "        target_pixel_size=raster_info['pixel_size'],\n",
    "        target_raster_path=target_raster_path,\n",
    "        resample_method='near',\n",
    "        target_bb=shapely.geometry.shape(aoi_geom).bounds,\n",
    "    )\n",
    "    LOGGER.info('Finished warping')\n",
    "    LOGGER.info(f\"Clipped raster available at {target_raster_path}\")\n",
    "    \n",
    "    # warp the clipped raster to the target coordinate system\n",
    "    #pygeoprocessing.warp_raster(\n",
    "    #    base_raster_path\n",
    "    #)\n",
    "\n",
    "threads = []\n",
    "\n",
    "def _submit_form(*args, **kwargs):\n",
    "    submit_button.description = \"Clipping ...\"\n",
    "    submit_button.disabled = True\n",
    "    thread = threading.Thread(\n",
    "        target=compute,\n",
    "        args=[\n",
    "            'intermediate/global_dem.tif',\n",
    "            draw_control.data[0]['geometry'],\n",
    "            4326,\n",
    "            'foo.tif'\n",
    "        ]\n",
    "    )\n",
    "    thread.start()\n",
    "    thread.join()\n",
    "    submit_button.disabled = False\n",
    "    submit_button.description = 'Clip layer to AOI'\n",
    "    \n",
    "    \n",
    "\n",
    "submit_button.on_click(_submit_form)\n",
    "\n",
    "m"
   ]
  },
  {
   "cell_type": "code",
   "execution_count": 37,
   "id": "a5686745",
   "metadata": {},
   "outputs": [
    {
     "name": "stdout",
     "output_type": "stream",
     "text": [
      "['__annotations__', '__class__', '__del__', '__delattr__', '__dict__', '__dir__', '__doc__', '__eq__', '__format__', '__ge__', '__getattribute__', '__getstate__', '__gt__', '__hash__', '__init__', '__init_subclass__', '__le__', '__lt__', '__module__', '__ne__', '__new__', '__reduce__', '__reduce_ex__', '__repr__', '__setattr__', '__setstate__', '__sizeof__', '__str__', '__subclasshook__', '__weakref__', '_active_widgets', '_add_notifiers', '_all_trait_default_generators', '_call_widget_constructed', '_click_handlers', '_comm_changed', '_compare', '_control_comm', '_cross_validation_lock', '_default_keys', '_descriptors', '_dom_classes', '_gen_repr_from_keys', '_get_embed_state', '_get_trait_default_generator', '_handle_button_msg', '_handle_control_comm_msg', '_handle_custom_msg', '_handle_msg', '_holding_sync', '_instance_inits', '_is_numpy', '_lock_property', '_log_default', '_model_id', '_model_module', '_model_module_version', '_model_name', '_msg_callbacks', '_notify_observers', '_notify_trait', '_property_lock', '_register_validator', '_remove_notifiers', '_repr_keys', '_repr_mimebundle_', '_send', '_should_send_property', '_states_to_send', '_static_immutable_initial_values', '_trait_default_generators', '_trait_from_json', '_trait_notifiers', '_trait_to_json', '_trait_validators', '_trait_values', '_traits', '_validate_icon', '_view_count', '_view_module', '_view_module_version', '_view_name', '_widget_construction_callback', '_widget_types', 'add_class', 'add_traits', 'blur', 'button_style', 'class_own_trait_events', 'class_own_traits', 'class_trait_names', 'class_traits', 'click', 'close', 'close_all', 'comm', 'cross_validation_lock', 'description', 'disabled', 'focus', 'get_manager_state', 'get_state', 'get_view_spec', 'handle_comm_opened', 'handle_control_comm_opened', 'has_trait', 'hold_sync', 'hold_trait_notifications', 'icon', 'keys', 'layout', 'log', 'model_id', 'notify_change', 'observe', 'on_click', 'on_msg', 'on_trait_change', 'on_widget_constructed', 'open', 'remove_class', 'send', 'send_state', 'set_state', 'set_trait', 'setup_instance', 'style', 'tabbable', 'tooltip', 'trait_defaults', 'trait_events', 'trait_has_value', 'trait_metadata', 'trait_names', 'trait_values', 'traits', 'unobserve', 'unobserve_all', 'widget_types', 'widgets']\n"
     ]
    },
    {
     "data": {
      "text/plain": [
       "{'type': 'Polygon',\n",
       " 'coordinates': [[[-95.224564, 35.010807],\n",
       "   [-69.913371, 2.612381],\n",
       "   [-106.122439, -15.476264],\n",
       "   [-95.224564, 35.010807]]]}"
      ]
     },
     "execution_count": 37,
     "metadata": {},
     "output_type": "execute_result"
    }
   ],
   "source": [
    "print(dir(submit_button))\n",
    "\n",
    "user_geometries = draw_control.data\n",
    "\n",
    "if not user_geometries:\n",
    "    print(\"Please define a geometry\")\n",
    "\n",
    "draw_control.data[0]['geometry']"
   ]
  },
  {
   "cell_type": "code",
   "execution_count": 9,
   "id": "01898168",
   "metadata": {},
   "outputs": [
    {
     "ename": "IndexError",
     "evalue": "list index out of range",
     "output_type": "error",
     "traceback": [
      "\u001b[0;31m---------------------------------------------------------------------------\u001b[0m",
      "\u001b[0;31mIndexError\u001b[0m                                Traceback (most recent call last)",
      "Cell \u001b[0;32mIn[9], line 2\u001b[0m\n\u001b[1;32m      1\u001b[0m \u001b[38;5;28;01mimport\u001b[39;00m \u001b[38;5;21;01mshapely\u001b[39;00m\u001b[38;5;21;01m.\u001b[39;00m\u001b[38;5;21;01mgeometry\u001b[39;00m\n\u001b[0;32m----> 2\u001b[0m shapely\u001b[38;5;241m.\u001b[39mgeometry\u001b[38;5;241m.\u001b[39mPolygon(\u001b[43mdraw_control\u001b[49m\u001b[38;5;241;43m.\u001b[39;49m\u001b[43mdata\u001b[49m\u001b[43m[\u001b[49m\u001b[38;5;241;43m0\u001b[39;49m\u001b[43m]\u001b[49m[\u001b[38;5;124m'\u001b[39m\u001b[38;5;124mgeometry\u001b[39m\u001b[38;5;124m'\u001b[39m][\u001b[38;5;124m'\u001b[39m\u001b[38;5;124mcoordinates\u001b[39m\u001b[38;5;124m'\u001b[39m][\u001b[38;5;241m0\u001b[39m])\n",
      "\u001b[0;31mIndexError\u001b[0m: list index out of range"
     ]
    }
   ],
   "source": [
    "import shapely.geometry\n",
    "shapely.geometry.Polygon(draw_control.data[0]['geometry']['coordinates'][0])"
   ]
  },
  {
   "cell_type": "code",
   "execution_count": 11,
   "id": "fbc2a146",
   "metadata": {},
   "outputs": [
    {
     "ename": "NameError",
     "evalue": "name 'URL' is not defined",
     "output_type": "error",
     "traceback": [
      "\u001b[0;31m---------------------------------------------------------------------------\u001b[0m",
      "\u001b[0;31mNameError\u001b[0m                                 Traceback (most recent call last)",
      "Cell \u001b[0;32mIn[11], line 14\u001b[0m\n\u001b[1;32m      9\u001b[0m \u001b[38;5;28;01mfrom\u001b[39;00m \u001b[38;5;21;01mIPython\u001b[39;00m\u001b[38;5;21;01m.\u001b[39;00m\u001b[38;5;21;01mdisplay\u001b[39;00m \u001b[38;5;28;01mimport\u001b[39;00m HTML\n\u001b[1;32m     10\u001b[0m HTML(\u001b[38;5;124m'''\u001b[39m\n\u001b[1;32m     11\u001b[0m \u001b[38;5;124m    <script type=\u001b[39m\u001b[38;5;124m\"\u001b[39m\u001b[38;5;124mtext/javascript\u001b[39m\u001b[38;5;124m\"\u001b[39m\u001b[38;5;124m>\u001b[39m\n\u001b[1;32m     12\u001b[0m \u001b[38;5;124m        IPython.notebook.kernel.execute(\u001b[39m\u001b[38;5;124m\"\u001b[39m\u001b[38;5;124mURL = \u001b[39m\u001b[38;5;124m'\u001b[39m\u001b[38;5;124m\"\u001b[39m\u001b[38;5;124m + window.location + \u001b[39m\u001b[38;5;124m\"\u001b[39m\u001b[38;5;124m'\u001b[39m\u001b[38;5;124m\"\u001b[39m\u001b[38;5;124m)\u001b[39m\n\u001b[1;32m     13\u001b[0m \u001b[38;5;124m    </script>\u001b[39m\u001b[38;5;124m'''\u001b[39m)\n\u001b[0;32m---> 14\u001b[0m \u001b[38;5;28mprint\u001b[39m(\u001b[43mURL\u001b[49m)\n",
      "\u001b[0;31mNameError\u001b[0m: name 'URL' is not defined"
     ]
    }
   ],
   "source": [
    "# How to get layer names passed in as URL parameters.\n",
    "# \n",
    "# A button in the catalog can be programmatically built in this way\n",
    "# to link to this jupyter notebook wherever it is served and have\n",
    "# the notebook constructed so that we pre-select the target layer.\n",
    "#\n",
    "# https://stackoverflow.com/a/37134476\n",
    "\n",
    "from IPython.display import HTML\n",
    "HTML('''\n",
    "    <script type=\"text/javascript\">\n",
    "        IPython.notebook.kernel.execute(\"URL = '\" + window.location + \"'\")\n",
    "    </script>''')\n",
    "print(URL)"
   ]
  },
  {
   "cell_type": "code",
   "execution_count": null,
   "id": "95a2ffc5",
   "metadata": {},
   "outputs": [],
   "source": []
  }
 ],
 "metadata": {
  "kernelspec": {
   "display_name": "Python 3 (ipykernel)",
   "language": "python",
   "name": "python3"
  },
  "language_info": {
   "codemirror_mode": {
    "name": "ipython",
    "version": 3
   },
   "file_extension": ".py",
   "mimetype": "text/x-python",
   "name": "python",
   "nbconvert_exporter": "python",
   "pygments_lexer": "ipython3",
   "version": "3.11.3"
  }
 },
 "nbformat": 4,
 "nbformat_minor": 5
}
