{
 "cells": [
  {
   "cell_type": "markdown",
   "id": "f157ec22",
   "metadata": {},
   "source": [
    "### Interactive Layer Clipping\n",
    "\n",
    "## Step 1: Define your AOI\n",
    "\n",
    "Draw a rectangle on the map using the rectangle control. This will be used as the bounding box of the clipped raster.\n",
    "\n",
    "## Step 2: Define your target SRS\n",
    "\n",
    "Provide your target SRS as an EPSG code.  The identified name of the EPSG code is provided for your reference.\n",
    "\n",
    "You must also provide a cell size in your target coordinate system's units.\n",
    "\n",
    "## Step 3: Click the `submit` button to start clipping\n",
    "\n",
    "Logging will be printed below the map."
   ]
  },
  {
   "cell_type": "code",
   "execution_count": 1,
   "id": "3bd68de8",
   "metadata": {},
   "outputs": [],
   "source": [
    "import os\n",
    "import logging\n",
    "import sys\n",
    "from urllib.parse import parse_qs\n",
    "\n",
    "import ipywidgets\n",
    "from IPython import get_ipython\n",
    "import IPython.display\n",
    "\n",
    "LOGGER = logging.getLogger(__name__)\n",
    "\n",
    "# Check the query parameters if we're in voila\n",
    "if (os.environ.get('SERVER_SOFTWARE', False) and \n",
    "        os.environ['SERVER_SOFTWARE'].startswith('voila')):      \n",
    "    # localhost:8866?foo=bar,baz will return {'foo': ['bar', 'baz']}\n",
    "    query_string = os.environ['QUERY_STRING']\n",
    "    URL = os.environ['VOILA_SERVER_URL']\n",
    "    parameters = parse_qs(query_string)\n",
    "    display(\"query string parameters:\", parameters)\n",
    "else:\n",
    "    # We're not running in voila, default to no parameters.\n",
    "    URL = './'\n",
    "    parameters = {}"
   ]
  },
  {
   "cell_type": "code",
   "execution_count": 10,
   "id": "62312ba4",
   "metadata": {},
   "outputs": [
    {
     "data": {
      "application/vnd.jupyter.widget-view+json": {
       "model_id": "64eb99595a8f46038baeb7f6731ac1c1",
       "version_major": 2,
       "version_minor": 0
      },
      "text/plain": [
       "DataportalMap(center=[0, 0], controls=(ZoomControl(options=['position', 'zoom_in_text', 'zoom_in_title', 'zoom…"
      ]
     },
     "metadata": {},
     "output_type": "display_data"
    },
    {
     "data": {
      "application/vnd.jupyter.widget-view+json": {
       "model_id": "80dfc390cecf422fa7d20d7ae1bd661e",
       "version_major": 2,
       "version_minor": 0
      },
      "text/plain": [
       "VBox(children=(HTML(value='<b>Source layer</b>'), HBox(children=(Label(value='Name:'), Label(value=''))), HBox…"
      ]
     },
     "metadata": {},
     "output_type": "display_data"
    },
    {
     "data": {
      "application/vnd.jupyter.widget-view+json": {
       "model_id": "f709c28f9a5541b283da731e82e0f4ed",
       "version_major": 2,
       "version_minor": 0
      },
      "text/plain": [
       "VBox(children=(HTML(value='<b>Output options</b>'), Checkbox(value=False, description='Reproject to a local pr…"
      ]
     },
     "metadata": {},
     "output_type": "display_data"
    },
    {
     "data": {
      "application/vnd.jupyter.widget-view+json": {
       "model_id": "f0e6d436f94f45e594719ff26738c1ec",
       "version_major": 2,
       "version_minor": 0
      },
      "text/plain": [
       "HBox(children=(Button(button_style='info', description='Clip raster', icon='crop', style=ButtonStyle(), toolti…"
      ]
     },
     "metadata": {},
     "output_type": "display_data"
    },
    {
     "data": {
      "application/vnd.jupyter.widget-view+json": {
       "model_id": "9aa39e644d9d4f8f8ab294030d554bfe",
       "version_major": 2,
       "version_minor": 0
      },
      "text/plain": [
       "VBox(children=(HTML(value='<b>Logging</b>'), Output(layout=Layout(border_bottom='1px solid black', border_left…"
      ]
     },
     "metadata": {},
     "output_type": "display_data"
    },
    {
     "name": "stderr",
     "output_type": "stream",
     "text": [
      "ERROR 1: PROJ: proj_create_from_database: crs not found\n",
      "ERROR 1: PROJ: proj_create_from_database: crs not found\n",
      "ERROR 1: PROJ: proj_create_from_database: crs not found\n",
      "ERROR 1: PROJ: proj_create_from_database: crs not found\n",
      "ERROR 1: PROJ: proj_create_from_database: crs not found\n",
      "ERROR 1: PROJ: proj_create_from_database: crs not found\n",
      "ERROR 1: PROJ: proj_create_from_database: crs not found\n",
      "ERROR 1: PROJ: proj_create_from_database: crs not found\n",
      "ERROR 1: PROJ: proj_create_from_database: crs not found\n",
      "ERROR 1: PROJ: proj_create_from_database: crs not found\n",
      "ERROR 1: PROJ: proj_create_from_database: crs not found\n",
      "ERROR 1: PROJ: proj_create_from_database: crs not found\n",
      "ERROR 1: PROJ: proj_create_from_database: crs not found\n",
      "ERROR 1: PROJ: proj_create_from_database: crs not found\n",
      "ERROR 1: PROJ: proj_create_from_database: crs not found\n"
     ]
    }
   ],
   "source": [
    "from ipyleaflet import basemap_to_tiles, basemaps\n",
    "import ipywidgets\n",
    "import time\n",
    "\n",
    "import dataportal_widgets\n",
    "import output_options\n",
    "import interactive_options\n",
    "\n",
    "output_handler = output_options.OutputWidgetHandler()\n",
    "stderr_handler = logging.StreamHandler(stream=sys.stderr)\n",
    "logging.getLogger().addHandler(output_handler)\n",
    "logging.getLogger().addHandler(stderr_handler)\n",
    "logging.getLogger().setLevel(logging.INFO)\n",
    "logging.getLogger('pygeoprocessing').setLevel(logging.DEBUG)\n",
    "\n",
    "chosen_basemap = basemap_to_tiles(basemaps.OpenStreetMap.Mapnik)\n",
    "chosen_basemap.name = '(basemap) OpenStreetMap Mapnik'\n",
    "\n",
    "if 'initial_layer' in parameters:\n",
    "    initial_layer = parameters['initial_layer']\n",
    "else:\n",
    "    # just assume SRTM if the user hasn't specified a layer.\n",
    "    initial_layer = \"srtm-v3-1s\"\n",
    "\n",
    "m = dataportal_widgets.DataportalMap(\n",
    "    basemap=chosen_basemap,\n",
    "    center=(0,0),\n",
    "    zoom=2,  # zoom level for most of the globedisplay(m)\n",
    "    initial_layer=initial_layer\n",
    ")\n",
    "\n",
    "epsg_input = output_options.EPSG_INPUT\n",
    "epsg_label = output_options.EPSG_LABEL\n",
    "pixel_sizes_label = output_options.PIXEL_SIZES_LABEL\n",
    "\n",
    "\n",
    "def _detect_srs_name(change):\n",
    "    try:\n",
    "        if isinstance(change['new'], str):\n",
    "            epsg_code = int(change['new'])\n",
    "        elif isinstance(change['new'], dict):\n",
    "            epsg_code = int(change['new']['value'])\n",
    "        else:\n",
    "            raise Exception(change)\n",
    "    except (ValueError, TypeError):\n",
    "        epsg_code = None\n",
    "    except KeyError:\n",
    "        # no new value was set; skip\n",
    "        return\n",
    "        \n",
    "    label, pixel_size_text = output_options.parse_epsg_code(epsg_code)\n",
    "        \n",
    "    epsg_label.value = label\n",
    "    pixel_sizes_label.value = pixel_size_text\n",
    "    \n",
    "epsg_input.observe(_detect_srs_name, 'value')\n",
    "\n",
    "pixel_size_x_input = output_options.PIXEL_SIZE_X_INPUT\n",
    "pixel_size_y_input = output_options.PIXEL_SIZE_Y_INPUT \n",
    "\n",
    "reproject_cb = ipywidgets.Checkbox(\n",
    "    value=False,\n",
    "    description='Reproject to a local projection',\n",
    "    layout={'width': 'max-content'},\n",
    "    disabled=False,\n",
    "    indent=False\n",
    ")\n",
    "\n",
    "def _enable_projection_info(value):\n",
    "    epsg_input.disabled = not value['new']\n",
    "    pixel_size_x_input.disabled = not value['new']\n",
    "    pixel_size_y_input.disabled = not value['new']\n",
    "\n",
    "reproject_cb.observe(_enable_projection_info, 'value')\n",
    "\n",
    "dataset_label = ipywidgets.Label(\"\")\n",
    "input_descriptions_box = ipywidgets.VBox([\n",
    "    ipywidgets.HTML(\"<b>Source layer</b>\"),\n",
    "    ipywidgets.HBox([ipywidgets.Label(value=\"Name:\"), dataset_label]),\n",
    "    ipywidgets.HBox([ipywidgets.Label(value=\"Projection: EPSG:4326\")]),\n",
    "    ipywidgets.HBox([ipywidgets.Label(value=\"Pixel size:\"),\n",
    "                     ipywidgets.Label(value=\"(1, 1)\")])\n",
    "])\n",
    "\n",
    "output_params_box = ipywidgets.VBox([\n",
    "    ipywidgets.HTML(\"<b>Output options</b>\"),\n",
    "    reproject_cb,\n",
    "    ipywidgets.HBox([epsg_input, epsg_label]),\n",
    "    ipywidgets.HBox(\n",
    "        [pixel_size_x_input, pixel_size_y_input, pixel_sizes_label]),\n",
    "])\n",
    "\n",
    "logging_box = ipywidgets.VBox([\n",
    "    ipywidgets.HTML(\"<b>Logging</b>\"),\n",
    "    output_handler.out,\n",
    "])\n",
    "\n",
    "submit = ipywidgets.Button(\n",
    "    description='Clip raster',\n",
    "    disabled=False,\n",
    "    button_style='info', # 'success', 'info', 'warning', 'danger' or ''\n",
    "    tooltip='Clip the selected raster by the selected bounding box',\n",
    "    icon='crop' # (FontAwesome names without the `fa-` prefix)\n",
    ")\n",
    "download_link = ipywidgets.HTML()\n",
    "submit_hbox = ipywidgets.HBox([submit, download_link])\n",
    "def _submit(button):\n",
    "    button.disabled=True\n",
    "    try:\n",
    "        dataset_key = m.selected_map()\n",
    "        timestamp = time.time()\n",
    "        target_path = f'{dataset_key}-{timestamp}.tif'\n",
    "        interactive_options.compute(\n",
    "            f\"/vsicurl/{dataportal_widgets.get_url(m.selected_map())}\",\n",
    "            m.selected_bbox(),\n",
    "            epsg_input.value,\n",
    "            target_path,\n",
    "            (float(pixel_size_x_input.value), float(pixel_size_y_input.value)),\n",
    "        )\n",
    "        LOGGER.info(\"Making file public for 7 days\")\n",
    "        download_url = interactive_options.upload_to_gcs(target_path, layer_slug)\n",
    "        LOGGER.info(\"Upload complete.\")\n",
    "        LOGGER.info(f\"File can be downloaded from {download_url}\")\n",
    "        download_link.value = f\"<a href={download_url}>Download {os.path.basename(download_url)}</a>\"\n",
    "    except Exception:\n",
    "        LOGGER.exception(\"Compute/upload failed\")\n",
    "    finally:\n",
    "        # always re-enable the button afterwards\n",
    "        if os.path.exists(target_path):\n",
    "            try:\n",
    "                LOGGER.info(f\"Cleaning up warped file {target_path}\")\n",
    "                os.remove(target_path)\n",
    "            except Exception:\n",
    "                LOGGER.exception(f\"Could not remove {target_path}; skipping\")\n",
    "        button.disabled=False\n",
    "    \n",
    "submit.on_click(_submit)\n",
    "\n",
    "display(m)\n",
    "display(input_descriptions_box)\n",
    "display(output_params_box)\n",
    "display(submit_hbox)\n",
    "display(logging_box)\n"
   ]
  },
  {
   "cell_type": "code",
   "execution_count": null,
   "id": "6c259c0c",
   "metadata": {},
   "outputs": [],
   "source": []
  },
  {
   "cell_type": "code",
   "execution_count": null,
   "id": "cec99702",
   "metadata": {},
   "outputs": [],
   "source": [
    "pixel_size_x_input = output_options.PIXEL_SIZE_X_INPUT\n",
    "\n",
    "\n",
    "reproject_cb = ipywidgets.Checkbox(\n",
    "    value=False,\n",
    "    description='Reproject to a local projection',\n",
    "    layout={'width': 'max-content'},\n",
    "    disabled=False,\n",
    "    indent=False\n",
    ")\n",
    "\n",
    "def _doit(value):\n",
    "    pixel_size_x_input.disabled = not value['new']\n",
    "\n",
    "reproject_cb.observe(_doit, 'value')\n",
    "display(pixel_size_x_input)\n",
    "display(reproject_cb)"
   ]
  },
  {
   "cell_type": "code",
   "execution_count": null,
   "id": "fbc2a146",
   "metadata": {},
   "outputs": [],
   "source": []
  },
  {
   "cell_type": "code",
   "execution_count": null,
   "id": "95a2ffc5",
   "metadata": {},
   "outputs": [],
   "source": []
  },
  {
   "cell_type": "code",
   "execution_count": null,
   "id": "09e73640",
   "metadata": {},
   "outputs": [],
   "source": [
    "# Remaining TODOs for this application:\n",
    "# - [ ] expand this to operate on various layers available\n",
    "# - [ ] expand this to write out rasters to a new session (grouped by uuid4()) on a bucket (maybe GDAL can directly write out to the bucket?)\n",
    "# - [x] get the URL when running in Voila mode\n",
    "# - [x] show the bounding box of the selected AOI polygon\n",
    "# - [x] Allow the user to define their target EPSG code\n",
    "# - [x] Use the user's target EPSG code in warping\n",
    "# - [x] If the EPSG code represents a projected coord system (!osr.IsGeographic()), provide the pixel size\n",
    "# - [x] Use osr.SpatialReference().GetName() to display the name of the coordinate system for user reference (unknown if unknown)"
   ]
  },
  {
   "cell_type": "code",
   "execution_count": null,
   "id": "87a9bf00",
   "metadata": {},
   "outputs": [],
   "source": []
  },
  {
   "cell_type": "code",
   "execution_count": null,
   "id": "2256e147",
   "metadata": {},
   "outputs": [],
   "source": []
  }
 ],
 "metadata": {
  "kernelspec": {
   "display_name": "Python 3 (ipykernel)",
   "language": "python",
   "name": "python3"
  },
  "language_info": {
   "codemirror_mode": {
    "name": "ipython",
    "version": 3
   },
   "file_extension": ".py",
   "mimetype": "text/x-python",
   "name": "python",
   "nbconvert_exporter": "python",
   "pygments_lexer": "ipython3",
   "version": "3.10.12"
  }
 },
 "nbformat": 4,
 "nbformat_minor": 5
}
